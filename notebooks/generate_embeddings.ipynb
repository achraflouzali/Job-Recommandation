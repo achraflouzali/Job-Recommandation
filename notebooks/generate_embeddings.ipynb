{
 "cells": [
  {
   "cell_type": "markdown",
   "metadata": {},
   "source": [
    "# This notebook is to generate embeddings of the job offers dataset"
   ]
  },
  {
   "cell_type": "code",
   "execution_count": 1,
   "metadata": {},
   "outputs": [],
   "source": [
    "import pandas as pd\n",
    "import openai\n",
    "import pickle\n",
    "from openai.embeddings_utils import (\n",
    "    get_embedding,\n",
    "    distances_from_embeddings,\n",
    "    tsne_components_from_embeddings,\n",
    "    chart_from_components,\n",
    "    indices_of_nearest_neighbors_from_distances,\n",
    ")\n",
    "openai.api_key='Put your api key here'\n",
    "EMBEDDING_MODEL = \"text-embedding-ada-002\""
   ]
  },
  {
   "cell_type": "code",
   "execution_count": 2,
   "metadata": {},
   "outputs": [],
   "source": [
    "df=pd.read_csv('../data/clean/techmap-jobs-cleaned.csv')"
   ]
  },
  {
   "cell_type": "code",
   "execution_count": 8,
   "metadata": {},
   "outputs": [],
   "source": [
    "df_sampled=df[:2000]"
   ]
  },
  {
   "cell_type": "code",
   "execution_count": 9,
   "metadata": {},
   "outputs": [],
   "source": [
    "embedding_cache_path = '../data/embeddings/recommendation_embeddings.pkl'\n",
    "try:\n",
    "    embedding_cache = pd.read_pickle(embedding_cache_path)\n",
    "except FileNotFoundError:\n",
    "    embedding_cache = {}\n",
    "with open(embedding_cache_path, \"wb\") as embedding_cache_file:\n",
    "    pickle.dump(embedding_cache, embedding_cache_file)\n",
    "\n",
    "def get_embedding(text, model=\"text-embedding-ada-002\"):\n",
    "   text = text.replace(\"\\n\", \" \")\n",
    "   return openai.Embedding.create(input = [text], model=model)['data'][0]['embedding']\n",
    "\n",
    "def embedding_from_string(\n",
    "    string: str,\n",
    "    model: str = EMBEDDING_MODEL,\n",
    "    embedding_cache=embedding_cache\n",
    ") -> list:\n",
    "    \"\"\"Return embedding of given string, using a cache to avoid recomputing.\"\"\"\n",
    "    if (string, model) not in embedding_cache.keys():\n",
    "        embedding_cache[(string, model)] = get_embedding(string, model)\n",
    "        with open(embedding_cache_path, \"wb\") as embedding_cache_file:\n",
    "            pickle.dump(embedding_cache, embedding_cache_file)\n",
    "    return embedding_cache[(string, model)]\n",
    "    \n"
   ]
  },
  {
   "cell_type": "code",
   "execution_count": 15,
   "metadata": {},
   "outputs": [],
   "source": [
    "embeddings=[embedding_from_string(string, model=EMBEDDING_MODEL) for string in df[:5000]['text'].tolist()]"
   ]
  },
  {
   "cell_type": "code",
   "execution_count": 5,
   "metadata": {},
   "outputs": [],
   "source": [
    "def print_recommendations_from_strings(\n",
    "    df: pd.DataFrame,\n",
    "    query: str,\n",
    "    k_nearest_neighbors: int = 5,\n",
    "    model=EMBEDDING_MODEL,\n",
    ") -> list[int]:\n",
    "    \"\"\"Print out the k nearest neighbors of a given string.\"\"\"\n",
    "    # get embeddings for all strings\n",
    "    embeddings = [embedding_from_string(string, model=model) for string in df['text'].tolist()]\n",
    "    # get the embedding of the source string\n",
    "    query_embedding = embedding_from_string(query,model=model)\n",
    "    # get distances between the source embedding and other embeddings (function from embeddings_utils.py)\n",
    "    distances = distances_from_embeddings(query_embedding, embeddings, distance_metric=\"cosine\")\n",
    "    # get indices of nearest neighbors (function from embeddings_utils.py)\n",
    "    indices_of_nearest_neighbors = indices_of_nearest_neighbors_from_distances(distances)\n",
    "    jobs=[]\n",
    "    # print out source string\n",
    "    print(f\"Source string: {query}\")\n",
    "    # print out its k nearest neighbors\n",
    "    k_counter = 0\n",
    "    for i in indices_of_nearest_neighbors:\n",
    "        # skip any strings that are identical matches to the starting string\n",
    "        # stop after printing out k articles\n",
    "        if k_counter >= k_nearest_neighbors:\n",
    "            break\n",
    "        k_counter += 1\n",
    "\n",
    "        # print out the similar strings and their distances\n",
    "        print(\n",
    "            f\"\"\"\n",
    "        --- Recommendation #{k_counter} (nearest neighbor {k_counter} of {k_nearest_neighbors}) ---\n",
    "        Job Title: {df['position'][i]}\n",
    "        Company: {df['orgCompany'][i]}\n",
    "        Located in: {df['orgAddress'][i]}\n",
    "        Job Description: {df['text'][i]}\n",
    "        Salary: {df['salary'][i]}\n",
    "        Url: {df['url'][i]}\n",
    "        \"\"\"\n",
    "        )\n",
    "        jobs.append({\"Job Title\":df['position'][i],\"Company\":df['orgCompany'][i],\"Located in\":df['orgAddress'][i],\"Job Description\":df['text'][i],\"Salary\":df['salary'][i],\"Url\":df['url'][i]})\n",
    "\n",
    "    return jobs\n"
   ]
  },
  {
   "cell_type": "code",
   "execution_count": 43,
   "metadata": {},
   "outputs": [
    {
     "name": "stdout",
     "output_type": "stream",
     "text": [
      "Source string: Project Manager\n",
      "\n",
      "        --- Recommendation #1 (nearest neighbor 1 of 2) ---\n",
      "        Job Title: Project Manager\n",
      "        Company: Arthur Grand Technologies\n",
      "        Located in: Remote\n",
      "        Job Description: Job Title: Project Manager Duration : Contract Location: Remote Responsibilities: Planning: Define project scope, goals, and deliverables that support business objectives in collaboration with senior management and stakeholders. Resource Management: Determine resource requirements and allocate project resources based on availability and skillsets. Budget Management: Develop and manage project budgets and forecasts, ensuring projects are delivered within the allocated budget. Risk Management: Identify potential risks and develop mitigation plans to reduce the likelihood of risks impacting the project. Communication: Effectively communicate project expectations, progress, and issues to team members, stakeholders, and senior management. Change Management: Manage change requests and ensure that they are properly evaluated, prioritized, and approved. Quality Management: Ensure that all project deliverables meet quality standards and are delivered on-time. Stakeholder Management: Manage stakeholders' expectations, ensuring that they are engaged and informed throughout the project. Closure: Ensure that project closure activities, including lessons learned, are completed and that all stakeholders are satisfied with the project outcome. Requirements: Bachelor's degree in a relevant field. 5+ years of experience in project management. Proven experience in leading and delivering projects within scope, timeline, and budget. Strong leadership and communication skills. Excellent problem-solving and critical thinking skills. Ability to work effectively in a team environment. Familiarity with project management tools and methodologies. Knowledge of relevant industry regulations and standards. PMP certification is preferred but not required. Job Type: Contract Work Location: Remote\n",
      "        Salary: nan\n",
      "        Url: https://www.glassdoor.com/job-listing/project-manager-arthur-grand-technologies-JV_KO0,15_KE16,41.htm?jl=1008627698162\n",
      "        Distance: 0.130\n",
      "\n",
      "        --- Recommendation #2 (nearest neighbor 2 of 2) ---\n",
      "        Job Title: Project Manager (Heavy Civil & Bridges)\n",
      "        Company: Sunshine Enterprise USA LLC\n",
      "        Located in: Asheville, NC\n",
      "        Job Description: Project Manager (Heavy Civil & Bridge Projects) Company Overview: Our client has an exciting opportunity for a Project Manager with successful and progressive experience in oversee total construction effort to ensure projects are safely constructed in accordance with design, budget, and schedule. This includes interfacing with client representatives, subcontractors, and suppliers. Position Summary: The successful candidate shall have a minimum of 8 years of successful and progressive experience in the civil construction field Responsibilities: Review project features with the Estimating Department Work with the Project Engineer and Superintendent to develop and maintain a project schedule with the appropriate attributes Submit preliminary paperwork such as submittals, introductory letters, subcontractor approvals, lump sum breakdowns of work items, affirmative action documents, etc. Develop a submittal log, a project organization chart, and a material storage plan Initiate project startup and closeout sheet and submit a copy to the construction department and set up and maintain project files Required to sign off on the budget prior to the start of construction Responsible for all aspects of cost management for the project Submit a quarterly cost revision with an explanation of any cost variance Submit change order logs to the regional office monthly Coordinate and direct all project activities with the Project Superintendent/General Superintendent to ensure that all milestones are met and job continuity is maintained Conduct weekly meetings Prepare and review periodic estimates with the owner's representative/Resident Engineer and submit an approved original estimate or pencil sheet copy to the regional office with the appropriate subcontractor quantity split. Attend final punch list inspection and/or closeout meeting and complete final documents Maintain contact with the project Owner and Architect/Engineer to obtain reduction of retainage and final payment and close out jobsite office Qualifications: B.S. in Civil Engineering major or construction related field Experienced in budget management, schedule, quality control, and knowledge of all phases of construction OSHA 10 Certified Necessary Attributes: Must possess the ability to adapt to different personalities and management styles Team player and with a strong interpersonal skill Ability to manage a team in an efficient and effective manner Self-starter with excellent verbal and written communication skills Reliance on experience and judgment to plan and accomplish goals Dedicated and hard working Possess strong leadership qualities Above average organizational skills Sunshine Enterprise USA is an âEqual Opportunity EmployerâMinorities, Females, Veterans and Disabled Personsâ PI215569266\n",
      "        Salary: nan\n",
      "        Url: https://us.jora.com/job/Project-Manager-3a1061d44593295d6d2fdac4e49703d5\n",
      "        Distance: 0.133\n"
     ]
    }
   ],
   "source": [
    "jobs=print_recommendations_from_strings(df_sampled, \"Project Manager\", k_nearest_neighbors=2, model=EMBEDDING_MODEL)"
   ]
  }
 ],
 "metadata": {
  "kernelspec": {
   "display_name": "ach_env",
   "language": "python",
   "name": "python3"
  },
  "language_info": {
   "codemirror_mode": {
    "name": "ipython",
    "version": 3
   },
   "file_extension": ".py",
   "mimetype": "text/x-python",
   "name": "python",
   "nbconvert_exporter": "python",
   "pygments_lexer": "ipython3",
   "version": "3.10.7"
  },
  "orig_nbformat": 4
 },
 "nbformat": 4,
 "nbformat_minor": 2
}
